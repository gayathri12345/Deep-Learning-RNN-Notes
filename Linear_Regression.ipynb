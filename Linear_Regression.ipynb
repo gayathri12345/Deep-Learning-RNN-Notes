{
  "nbformat": 4,
  "nbformat_minor": 0,
  "metadata": {
    "colab": {
      "name": "Linear_Regression.ipynb",
      "provenance": [],
      "authorship_tag": "ABX9TyM0e4CAzzpsHFVWQAOPaCTv",
      "include_colab_link": true
    },
    "kernelspec": {
      "name": "python3",
      "display_name": "Python 3"
    },
    "language_info": {
      "name": "python"
    }
  },
  "cells": [
    {
      "cell_type": "markdown",
      "metadata": {
        "id": "view-in-github",
        "colab_type": "text"
      },
      "source": [
        "<a href=\"https://colab.research.google.com/github/gayathri12345/Deep-Learning-RNN-Notes/blob/main/Linear_Regression.ipynb\" target=\"_parent\"><img src=\"https://colab.research.google.com/assets/colab-badge.svg\" alt=\"Open In Colab\"/></a>"
      ]
    },
    {
      "cell_type": "code",
      "metadata": {
        "colab": {
          "base_uri": "https://localhost:8080/",
          "height": 35
        },
        "id": "nmcZR_TeM7fV",
        "outputId": "b037bb78-c117-4846-db98-a1016cac9d24"
      },
      "source": [
        "import tensorflow as tf\n",
        "tf.__version__"
      ],
      "execution_count": null,
      "outputs": [
        {
          "output_type": "execute_result",
          "data": {
            "application/vnd.google.colaboratory.intrinsic+json": {
              "type": "string"
            },
            "text/plain": [
              "'2.4.1'"
            ]
          },
          "metadata": {
            "tags": []
          },
          "execution_count": 1
        }
      ]
    },
    {
      "cell_type": "code",
      "metadata": {
        "colab": {
          "base_uri": "https://localhost:8080/"
        },
        "id": "fVpmqfzyNYzg",
        "outputId": "ccf9ab01-96b5-4121-97c3-b82bb7ad3e90"
      },
      "source": [
        "!wget https://raw.githubusercontent.com/lazyprogrammer/machine_learning_examples/master/tf2.0/moore.csv"
      ],
      "execution_count": null,
      "outputs": [
        {
          "output_type": "stream",
          "text": [
            "--2021-04-07 16:42:38--  https://raw.githubusercontent.com/lazyprogrammer/machine_learning_examples/master/tf2.0/moore.csv\n",
            "Resolving raw.githubusercontent.com (raw.githubusercontent.com)... 185.199.111.133, 185.199.108.133, 185.199.110.133, ...\n",
            "Connecting to raw.githubusercontent.com (raw.githubusercontent.com)|185.199.111.133|:443... connected.\n",
            "HTTP request sent, awaiting response... 200 OK\n",
            "Length: 2302 (2.2K) [text/plain]\n",
            "Saving to: ‘moore.csv’\n",
            "\n",
            "moore.csv           100%[===================>]   2.25K  --.-KB/s    in 0s      \n",
            "\n",
            "2021-04-07 16:42:39 (45.8 MB/s) - ‘moore.csv’ saved [2302/2302]\n",
            "\n"
          ],
          "name": "stdout"
        }
      ]
    },
    {
      "cell_type": "code",
      "metadata": {
        "colab": {
          "base_uri": "https://localhost:8080/"
        },
        "id": "8x-PtbteN3z7",
        "outputId": "92304e6c-803c-4fd8-a5d4-a2a8b260b954"
      },
      "source": [
        "!ls"
      ],
      "execution_count": null,
      "outputs": [
        {
          "output_type": "stream",
          "text": [
            "moore.csv  sample_data\n"
          ],
          "name": "stdout"
        }
      ]
    },
    {
      "cell_type": "code",
      "metadata": {
        "id": "gFPel228NuTx"
      },
      "source": [
        "import numpy as np\n",
        "import pandas as pd\n",
        "import matplotlib.pyplot as plt"
      ],
      "execution_count": null,
      "outputs": []
    },
    {
      "cell_type": "code",
      "metadata": {
        "id": "yiK3x5sXN0G1"
      },
      "source": [
        "data=pd.read_csv('moore.csv',header=None).values"
      ],
      "execution_count": null,
      "outputs": []
    },
    {
      "cell_type": "code",
      "metadata": {
        "id": "lhmFpjf7N51l"
      },
      "source": [
        "X=data[:,0].reshape(-1,1)"
      ],
      "execution_count": null,
      "outputs": []
    },
    {
      "cell_type": "code",
      "metadata": {
        "id": "ZjLQt9xCN7P7"
      },
      "source": [
        "Y=data[:,1]"
      ],
      "execution_count": null,
      "outputs": []
    },
    {
      "cell_type": "code",
      "metadata": {
        "colab": {
          "base_uri": "https://localhost:8080/"
        },
        "id": "ObE50sbjOLez",
        "outputId": "ecae8d58-a980-471a-a1f6-533b408cb827"
      },
      "source": [
        "X.shape,Y.shape"
      ],
      "execution_count": null,
      "outputs": [
        {
          "output_type": "execute_result",
          "data": {
            "text/plain": [
              "((162, 1), (162,))"
            ]
          },
          "metadata": {
            "tags": []
          },
          "execution_count": 20
        }
      ]
    },
    {
      "cell_type": "code",
      "metadata": {
        "colab": {
          "base_uri": "https://localhost:8080/",
          "height": 293
        },
        "id": "S6EvDe51PHNc",
        "outputId": "8a5eb450-f8f9-4f26-ffbd-103fb87b84c0"
      },
      "source": [
        "plt.scatter(X,Y)  #exponential relation"
      ],
      "execution_count": null,
      "outputs": [
        {
          "output_type": "execute_result",
          "data": {
            "text/plain": [
              "<matplotlib.collections.PathCollection at 0x7fc31ecd3550>"
            ]
          },
          "metadata": {
            "tags": []
          },
          "execution_count": 21
        },
        {
          "output_type": "display_data",
          "data": {
            "image/png": "[encoded data removed]",
            "text/plain": [
              "<Figure size 432x288 with 1 Axes>"
            ]
          },
          "metadata": {
            "tags": [],
            "needs_background": "light"
          }
        }
      ]
    },
    {
      "cell_type": "code",
      "metadata": {
        "colab": {
          "base_uri": "https://localhost:8080/",
          "height": 282
        },
        "id": "RNZntwNMPlHQ",
        "outputId": "67015752-5a70-477f-c615-837942c69402"
      },
      "source": [
        "log_Y=np.log(Y)\n",
        "plt.scatter(X,log_Y)"
      ],
      "execution_count": null,
      "outputs": [
        {
          "output_type": "execute_result",
          "data": {
            "text/plain": [
              "<matplotlib.collections.PathCollection at 0x7fc31e48d110>"
            ]
          },
          "metadata": {
            "tags": []
          },
          "execution_count": 22
        },
        {
          "output_type": "display_data",
          "data": {
            "image/png": "[encoded data removed]",
            "text/plain": [
              "<Figure size 432x288 with 1 Axes>"
            ]
          },
          "metadata": {
            "tags": [],
            "needs_background": "light"
          }
        }
      ]
    },
    {
      "cell_type": "code",
      "metadata": {
        "id": "HX0Lmc2qPz9B"
      },
      "source": [
        "X_mod=X-X.mean()"
      ],
      "execution_count": null,
      "outputs": []
    },
    {
      "cell_type": "code",
      "metadata": {
        "colab": {
          "base_uri": "https://localhost:8080/"
        },
        "id": "Yqx2ZlnRP4uK",
        "outputId": "f602aab1-2754-4ad6-bd2a-ccac5ef0cae2"
      },
      "source": [
        "model=tf.keras.models.Sequential([\n",
        "                                 tf.keras.layers.Input(shape=(1,)),\n",
        "                                 tf.keras.layers.Dense(1)\n",
        "])\n",
        "\n",
        "model.compile(optimizer=tf.keras.optimizers.SGD(0.001,0.9),loss='mse')\n",
        "\n",
        "def schedule(epoch,learning_rate):\n",
        "  if epoch>=50:\n",
        "    return 0.0001\n",
        "  return 0.001\n",
        "\n",
        "scheduler=tf.keras.callbacks.LearningRateScheduler(schedule)\n",
        "r=model.fit(X_mod,log_Y,epochs=100,callbacks=[scheduler])"
      ],
      "execution_count": null,
      "outputs": [
        {
          "output_type": "stream",
          "text": [
            "Epoch 1/100\n",
            "6/6 [==============================] - 0s 2ms/step - loss: 328.6094\n",
            "Epoch 2/100\n",
            "6/6 [==============================] - 0s 2ms/step - loss: 310.1508\n",
            "Epoch 3/100\n",
            "6/6 [==============================] - 0s 2ms/step - loss: 411.4042\n",
            "Epoch 4/100\n",
            "6/6 [==============================] - 0s 2ms/step - loss: 329.2909\n",
            "Epoch 5/100\n",
            "6/6 [==============================] - 0s 2ms/step - loss: 163.1222\n",
            "Epoch 6/100\n",
            "6/6 [==============================] - 0s 2ms/step - loss: 164.2555\n",
            "Epoch 7/100\n",
            "6/6 [==============================] - 0s 2ms/step - loss: 103.6056\n",
            "Epoch 8/100\n",
            "6/6 [==============================] - 0s 2ms/step - loss: 136.0632\n",
            "Epoch 9/100\n",
            "6/6 [==============================] - 0s 2ms/step - loss: 66.8404\n",
            "Epoch 10/100\n",
            "6/6 [==============================] - 0s 1ms/step - loss: 54.4226\n",
            "Epoch 11/100\n",
            "6/6 [==============================] - 0s 1ms/step - loss: 29.4900\n",
            "Epoch 12/100\n",
            "6/6 [==============================] - 0s 1ms/step - loss: 21.4647\n",
            "Epoch 13/100\n",
            "6/6 [==============================] - 0s 2ms/step - loss: 19.4157\n",
            "Epoch 14/100\n",
            "6/6 [==============================] - 0s 1ms/step - loss: 13.4108\n",
            "Epoch 15/100\n",
            "6/6 [==============================] - 0s 2ms/step - loss: 10.1186\n",
            "Epoch 16/100\n",
            "6/6 [==============================] - 0s 2ms/step - loss: 7.7424\n",
            "Epoch 17/100\n",
            "6/6 [==============================] - 0s 2ms/step - loss: 5.2774\n",
            "Epoch 18/100\n",
            "6/6 [==============================] - 0s 2ms/step - loss: 4.0466\n",
            "Epoch 19/100\n",
            "6/6 [==============================] - 0s 1ms/step - loss: 3.5109\n",
            "Epoch 20/100\n",
            "6/6 [==============================] - 0s 1ms/step - loss: 3.4121\n",
            "Epoch 21/100\n",
            "6/6 [==============================] - 0s 2ms/step - loss: 2.7387\n",
            "Epoch 22/100\n",
            "6/6 [==============================] - 0s 2ms/step - loss: 1.9788\n",
            "Epoch 23/100\n",
            "6/6 [==============================] - 0s 2ms/step - loss: 1.6079\n",
            "Epoch 24/100\n",
            "6/6 [==============================] - 0s 2ms/step - loss: 1.7365\n",
            "Epoch 25/100\n",
            "6/6 [==============================] - 0s 2ms/step - loss: 1.3033\n",
            "Epoch 26/100\n",
            "6/6 [==============================] - 0s 2ms/step - loss: 1.0893\n",
            "Epoch 27/100\n",
            "6/6 [==============================] - 0s 2ms/step - loss: 1.0831\n",
            "Epoch 28/100\n",
            "6/6 [==============================] - 0s 2ms/step - loss: 1.0490\n",
            "Epoch 29/100\n",
            "6/6 [==============================] - 0s 3ms/step - loss: 1.0760\n",
            "Epoch 30/100\n",
            "6/6 [==============================] - 0s 2ms/step - loss: 0.9517\n",
            "Epoch 31/100\n",
            "6/6 [==============================] - 0s 2ms/step - loss: 0.9027\n",
            "Epoch 32/100\n",
            "6/6 [==============================] - 0s 2ms/step - loss: 1.1705\n",
            "Epoch 33/100\n",
            "6/6 [==============================] - 0s 2ms/step - loss: 0.9539\n",
            "Epoch 34/100\n",
            "6/6 [==============================] - 0s 2ms/step - loss: 0.9218\n",
            "Epoch 35/100\n",
            "6/6 [==============================] - 0s 3ms/step - loss: 0.7736\n",
            "Epoch 36/100\n",
            "6/6 [==============================] - 0s 2ms/step - loss: 0.7690\n",
            "Epoch 37/100\n",
            "6/6 [==============================] - 0s 2ms/step - loss: 0.7531\n",
            "Epoch 38/100\n",
            "6/6 [==============================] - 0s 2ms/step - loss: 0.9162\n",
            "Epoch 39/100\n",
            "6/6 [==============================] - 0s 2ms/step - loss: 0.9961\n",
            "Epoch 40/100\n",
            "6/6 [==============================] - 0s 2ms/step - loss: 0.9583\n",
            "Epoch 41/100\n",
            "6/6 [==============================] - 0s 2ms/step - loss: 1.3437\n",
            "Epoch 42/100\n",
            "6/6 [==============================] - 0s 2ms/step - loss: 1.0368\n",
            "Epoch 43/100\n",
            "6/6 [==============================] - 0s 2ms/step - loss: 0.8678\n",
            "Epoch 44/100\n",
            "6/6 [==============================] - 0s 2ms/step - loss: 0.7843\n",
            "Epoch 45/100\n",
            "6/6 [==============================] - 0s 2ms/step - loss: 0.9843\n",
            "Epoch 46/100\n",
            "6/6 [==============================] - 0s 3ms/step - loss: 0.7854\n",
            "Epoch 47/100\n",
            "6/6 [==============================] - 0s 2ms/step - loss: 0.9158\n",
            "Epoch 48/100\n",
            "6/6 [==============================] - 0s 2ms/step - loss: 0.7372\n",
            "Epoch 49/100\n",
            "6/6 [==============================] - 0s 2ms/step - loss: 1.0231\n",
            "Epoch 50/100\n",
            "6/6 [==============================] - 0s 2ms/step - loss: 0.9114\n",
            "Epoch 51/100\n",
            "6/6 [==============================] - 0s 2ms/step - loss: 1.2817\n",
            "Epoch 52/100\n",
            "6/6 [==============================] - 0s 2ms/step - loss: 2.3581\n",
            "Epoch 53/100\n",
            "6/6 [==============================] - 0s 2ms/step - loss: 1.0772\n",
            "Epoch 54/100\n",
            "6/6 [==============================] - 0s 2ms/step - loss: 1.2093\n",
            "Epoch 55/100\n",
            "6/6 [==============================] - 0s 2ms/step - loss: 1.3378\n",
            "Epoch 56/100\n",
            "6/6 [==============================] - 0s 1ms/step - loss: 0.7766\n",
            "Epoch 57/100\n",
            "6/6 [==============================] - 0s 2ms/step - loss: 0.9142\n",
            "Epoch 58/100\n",
            "6/6 [==============================] - 0s 3ms/step - loss: 0.8553\n",
            "Epoch 59/100\n",
            "6/6 [==============================] - 0s 3ms/step - loss: 0.7918\n",
            "Epoch 60/100\n",
            "6/6 [==============================] - 0s 2ms/step - loss: 0.8059\n",
            "Epoch 61/100\n",
            "6/6 [==============================] - 0s 2ms/step - loss: 0.9892\n",
            "Epoch 62/100\n",
            "6/6 [==============================] - 0s 3ms/step - loss: 0.8530\n",
            "Epoch 63/100\n",
            "6/6 [==============================] - 0s 2ms/step - loss: 0.9961\n",
            "Epoch 64/100\n",
            "6/6 [==============================] - 0s 3ms/step - loss: 0.7674\n",
            "Epoch 65/100\n",
            "6/6 [==============================] - 0s 3ms/step - loss: 0.7481\n",
            "Epoch 66/100\n",
            "6/6 [==============================] - 0s 2ms/step - loss: 0.9085\n",
            "Epoch 67/100\n",
            "6/6 [==============================] - 0s 3ms/step - loss: 0.7893\n",
            "Epoch 68/100\n",
            "6/6 [==============================] - 0s 2ms/step - loss: 0.9557\n",
            "Epoch 69/100\n",
            "6/6 [==============================] - 0s 2ms/step - loss: 0.7149\n",
            "Epoch 70/100\n",
            "6/6 [==============================] - 0s 2ms/step - loss: 0.9262\n",
            "Epoch 71/100\n",
            "6/6 [==============================] - 0s 2ms/step - loss: 0.8395\n",
            "Epoch 72/100\n",
            "6/6 [==============================] - 0s 2ms/step - loss: 0.8813\n",
            "Epoch 73/100\n",
            "6/6 [==============================] - 0s 3ms/step - loss: 0.8375\n",
            "Epoch 74/100\n",
            "6/6 [==============================] - 0s 2ms/step - loss: 0.7305\n",
            "Epoch 75/100\n",
            "6/6 [==============================] - 0s 2ms/step - loss: 0.9005\n",
            "Epoch 76/100\n",
            "6/6 [==============================] - 0s 2ms/step - loss: 0.9189\n",
            "Epoch 77/100\n",
            "6/6 [==============================] - 0s 2ms/step - loss: 0.8283\n",
            "Epoch 78/100\n",
            "6/6 [==============================] - 0s 2ms/step - loss: 1.0582\n",
            "Epoch 79/100\n",
            "6/6 [==============================] - 0s 2ms/step - loss: 0.9181\n",
            "Epoch 80/100\n",
            "6/6 [==============================] - 0s 2ms/step - loss: 1.2316\n",
            "Epoch 81/100\n",
            "6/6 [==============================] - 0s 2ms/step - loss: 0.8789\n",
            "Epoch 82/100\n",
            "6/6 [==============================] - 0s 2ms/step - loss: 0.9860\n",
            "Epoch 83/100\n",
            "6/6 [==============================] - 0s 2ms/step - loss: 0.8066\n",
            "Epoch 84/100\n",
            "6/6 [==============================] - 0s 2ms/step - loss: 0.9474\n",
            "Epoch 85/100\n",
            "6/6 [==============================] - 0s 2ms/step - loss: 0.7810\n",
            "Epoch 86/100\n",
            "6/6 [==============================] - 0s 2ms/step - loss: 0.8950\n",
            "Epoch 87/100\n",
            "6/6 [==============================] - 0s 2ms/step - loss: 0.8962\n",
            "Epoch 88/100\n",
            "6/6 [==============================] - 0s 4ms/step - loss: 0.8045\n",
            "Epoch 89/100\n",
            "6/6 [==============================] - 0s 2ms/step - loss: 1.0269\n",
            "Epoch 90/100\n",
            "6/6 [==============================] - 0s 2ms/step - loss: 0.7700\n",
            "Epoch 91/100\n",
            "6/6 [==============================] - 0s 2ms/step - loss: 0.9349\n",
            "Epoch 92/100\n",
            "6/6 [==============================] - 0s 3ms/step - loss: 0.7206\n",
            "Epoch 93/100\n",
            "6/6 [==============================] - 0s 3ms/step - loss: 0.9224\n",
            "Epoch 94/100\n",
            "6/6 [==============================] - 0s 2ms/step - loss: 0.8217\n",
            "Epoch 95/100\n",
            "6/6 [==============================] - 0s 2ms/step - loss: 0.7403\n",
            "Epoch 96/100\n",
            "6/6 [==============================] - 0s 2ms/step - loss: 1.1254\n",
            "Epoch 97/100\n",
            "6/6 [==============================] - 0s 2ms/step - loss: 0.9030\n",
            "Epoch 98/100\n",
            "6/6 [==============================] - 0s 3ms/step - loss: 0.7527\n",
            "Epoch 99/100\n",
            "6/6 [==============================] - 0s 2ms/step - loss: 1.0648\n",
            "Epoch 100/100\n",
            "6/6 [==============================] - 0s 2ms/step - loss: 0.8900\n"
          ],
          "name": "stdout"
        }
      ]
    },
    {
      "cell_type": "code",
      "metadata": {
        "colab": {
          "base_uri": "https://localhost:8080/",
          "height": 282
        },
        "id": "lHr_BkvWP5_p",
        "outputId": "cc85e097-ac39-4532-aadb-11c6c86720af"
      },
      "source": [
        "plt.plot(r.history['loss'],label='loss')"
      ],
      "execution_count": null,
      "outputs": [
        {
          "output_type": "execute_result",
          "data": {
            "text/plain": [
              "[<matplotlib.lines.Line2D at 0x7fc31d966c90>]"
            ]
          },
          "metadata": {
            "tags": []
          },
          "execution_count": 28
        },
        {
          "output_type": "display_data",
          "data": {
            "image/png": "[encoded data removed]",
            "text/plain": [
              "<Figure size 432x288 with 1 Axes>"
            ]
          },
          "metadata": {
            "tags": [],
            "needs_background": "light"
          }
        }
      ]
    },
    {
      "cell_type": "code",
      "metadata": {
        "colab": {
          "base_uri": "https://localhost:8080/"
        },
        "id": "Z3uFk5daTM9g",
        "outputId": "f87aa128-3818-43f4-ed3c-7abacc831bf4"
      },
      "source": [
        " model.layers\n",
        "\n",
        " #Input layer is a dummy layer, therefor only dense layer is present"
      ],
      "execution_count": null,
      "outputs": [
        {
          "output_type": "execute_result",
          "data": {
            "text/plain": [
              "[<tensorflow.python.keras.layers.core.Dense at 0x7fc31a0e3890>]"
            ]
          },
          "metadata": {
            "tags": []
          },
          "execution_count": 29
        }
      ]
    },
    {
      "cell_type": "code",
      "metadata": {
        "colab": {
          "base_uri": "https://localhost:8080/"
        },
        "id": "EBMtHGbpTQ9T",
        "outputId": "9cd4cfa8-602f-47ed-bab0-b829b27a3ef8"
      },
      "source": [
        "model.layers[0].get_weights()   #to display w and b values"
      ],
      "execution_count": null,
      "outputs": [
        {
          "output_type": "execute_result",
          "data": {
            "text/plain": [
              "[array([[0.32763064]], dtype=float32), array([17.792164], dtype=float32)]"
            ]
          },
          "metadata": {
            "tags": []
          },
          "execution_count": 33
        }
      ]
    },
    {
      "cell_type": "code",
      "metadata": {
        "id": "euxdK5jnTa2H"
      },
      "source": [
        "#Predictions"
      ],
      "execution_count": 34,
      "outputs": []
    },
    {
      "cell_type": "code",
      "metadata": {
        "id": "Q_p-9Q4ihPX_"
      },
      "source": [
        "yhat=model.predict(X_mod.flatten())"
      ],
      "execution_count": 35,
      "outputs": []
    },
    {
      "cell_type": "code",
      "metadata": {
        "colab": {
          "base_uri": "https://localhost:8080/",
          "height": 312
        },
        "id": "v39kKGtBhTT4",
        "outputId": "084e397e-899b-421f-a411-12ff2c479f91"
      },
      "source": [
        "plt.scatter(X_mod,log_Y)\n",
        "plt.plot(X_mod,yhat,label='regression line',color='red')\n",
        "plt.xlabel(\"Year\")\n",
        "plt.ylabel(\"Count\")\n",
        "plt.title(\"Moore's law\")\n",
        "plt.legend()"
      ],
      "execution_count": 40,
      "outputs": [
        {
          "output_type": "execute_result",
          "data": {
            "text/plain": [
              "<matplotlib.legend.Legend at 0x7fc31796bd50>"
            ]
          },
          "metadata": {
            "tags": []
          },
          "execution_count": 40
        },
        {
          "output_type": "display_data",
          "data": {
            "image/png": "[encoded data removed]",
            "text/plain": [
              "<Figure size 432x288 with 1 Axes>"
            ]
          },
          "metadata": {
            "tags": [],
            "needs_background": "light"
          }
        }
      ]
    },
    {
      "cell_type": "code",
      "metadata": {
        "id": "EuzibaLihavt"
      },
      "source": [
        "w,b=model.layers[0].get_weights()\n",
        "\n",
        "X=X_mod.reshape(-1,1)\n",
        "\n",
        "yhat1=(np.dot(X,w)+b).flatten()"
      ],
      "execution_count": 49,
      "outputs": []
    },
    {
      "cell_type": "code",
      "metadata": {
        "colab": {
          "base_uri": "https://localhost:8080/"
        },
        "id": "1Plq2EIpiWXB",
        "outputId": "b777f835-f255-4f9f-f66e-25bc2dd91524"
      },
      "source": [
        "np.allclose(yhat,yhat1)"
      ],
      "execution_count": 50,
      "outputs": [
        {
          "output_type": "execute_result",
          "data": {
            "text/plain": [
              "True"
            ]
          },
          "metadata": {
            "tags": []
          },
          "execution_count": 50
        }
      ]
    },
    {
      "cell_type": "code",
      "metadata": {
        "id": "9Y3aqEoVix3t"
      },
      "source": [
        ""
      ],
      "execution_count": null,
      "outputs": []
    }
  ]
}