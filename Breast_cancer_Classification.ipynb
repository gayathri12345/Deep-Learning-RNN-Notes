{
  "nbformat": 4,
  "nbformat_minor": 0,
  "metadata": {
    "colab": {
      "name": "Breast_cancer_Classification.ipynb",
      "provenance": [],
      "collapsed_sections": [],
      "authorship_tag": "ABX9TyMABD6ip4q5gTWLA4vwkRij",
      "include_colab_link": true
    },
    "kernelspec": {
      "name": "python3",
      "display_name": "Python 3"
    },
    "language_info": {
      "name": "python"
    }
  },
  "cells": [
    {
      "cell_type": "markdown",
      "metadata": {
        "id": "view-in-github",
        "colab_type": "text"
      },
      "source": [
        "<a href=\"https://colab.research.google.com/github/gayathri12345/Deep-Learning-RNN-Notes/blob/main/Breast_cancer_Classification.ipynb\" target=\"_parent\"><img src=\"https://colab.research.google.com/assets/colab-badge.svg\" alt=\"Open In Colab\"/></a>"
      ]
    },
    {
      "cell_type": "code",
      "metadata": {
        "colab": {
          "base_uri": "https://localhost:8080/"
        },
        "id": "URoE_bzfBKsT",
        "outputId": "1d8f2942-dde1-4a35-8e81-90809d76c307"
      },
      "source": [
        "import tensorflow as tf\n",
        "print(tf.__version__)"
      ],
      "execution_count": null,
      "outputs": [
        {
          "output_type": "stream",
          "text": [
            "2.4.1\n"
          ],
          "name": "stdout"
        }
      ]
    },
    {
      "cell_type": "code",
      "metadata": {
        "id": "_RxrNyq1BdPg"
      },
      "source": [
        "from sklearn.datasets import load_breast_cancer"
      ],
      "execution_count": null,
      "outputs": []
    },
    {
      "cell_type": "code",
      "metadata": {
        "id": "VsI2Hh6OBqnG"
      },
      "source": [
        "data=load_breast_cancer()"
      ],
      "execution_count": null,
      "outputs": []
    },
    {
      "cell_type": "code",
      "metadata": {
        "colab": {
          "base_uri": "https://localhost:8080/"
        },
        "id": "gmCYZDWnBshC",
        "outputId": "18b72860-8cb6-4b9e-f5e5-cd0565bd167a"
      },
      "source": [
        "type(data)"
      ],
      "execution_count": 54,
      "outputs": [
        {
          "output_type": "execute_result",
          "data": {
            "text/plain": [
              "sklearn.utils.Bunch"
            ]
          },
          "metadata": {
            "tags": []
          },
          "execution_count": 54
        }
      ]
    },
    {
      "cell_type": "code",
      "metadata": {
        "colab": {
          "base_uri": "https://localhost:8080/"
        },
        "id": "rLYW9Q4MCNIO",
        "outputId": "86bf5947-b74f-42a8-9e4d-d8143b820c60"
      },
      "source": [
        "data.keys()"
      ],
      "execution_count": null,
      "outputs": [
        {
          "output_type": "execute_result",
          "data": {
            "text/plain": [
              "dict_keys(['data', 'target', 'target_names', 'DESCR', 'feature_names', 'filename'])"
            ]
          },
          "metadata": {
            "tags": []
          },
          "execution_count": 39
        }
      ]
    },
    {
      "cell_type": "code",
      "metadata": {
        "id": "SVWGXdPOCSz0"
      },
      "source": [
        "columns=data['feature_names']"
      ],
      "execution_count": null,
      "outputs": []
    },
    {
      "cell_type": "code",
      "metadata": {
        "id": "BvGHg4SbCV7f"
      },
      "source": [
        "X=data['data']"
      ],
      "execution_count": null,
      "outputs": []
    },
    {
      "cell_type": "code",
      "metadata": {
        "colab": {
          "base_uri": "https://localhost:8080/"
        },
        "id": "hac1Sx8sChrd",
        "outputId": "e28ab70c-ae2f-497e-923c-f897029ceed4"
      },
      "source": [
        "X.shape"
      ],
      "execution_count": null,
      "outputs": [
        {
          "output_type": "execute_result",
          "data": {
            "text/plain": [
              "(569, 30)"
            ]
          },
          "metadata": {
            "tags": []
          },
          "execution_count": 42
        }
      ]
    },
    {
      "cell_type": "code",
      "metadata": {
        "id": "8VequSoqCjUf"
      },
      "source": [
        "Y=data['target']"
      ],
      "execution_count": null,
      "outputs": []
    },
    {
      "cell_type": "code",
      "metadata": {
        "colab": {
          "base_uri": "https://localhost:8080/"
        },
        "id": "f7_TLtEqCtpI",
        "outputId": "43a40e21-6d1b-4937-daa6-88de4fcda540"
      },
      "source": [
        "data['target_names']"
      ],
      "execution_count": null,
      "outputs": [
        {
          "output_type": "execute_result",
          "data": {
            "text/plain": [
              "array(['malignant', 'benign'], dtype='<U9')"
            ]
          },
          "metadata": {
            "tags": []
          },
          "execution_count": 44
        }
      ]
    },
    {
      "cell_type": "code",
      "metadata": {
        "id": "EiYvYCqqCvp9"
      },
      "source": [
        "from sklearn.model_selection import train_test_split\n",
        "X_train,X_test,Y_train,Y_test=train_test_split(X,Y,test_size=0.33,random_state=45)"
      ],
      "execution_count": null,
      "outputs": []
    },
    {
      "cell_type": "code",
      "metadata": {
        "colab": {
          "base_uri": "https://localhost:8080/"
        },
        "id": "a9mvIFw4CzsE",
        "outputId": "dca74e3f-5347-4158-b65e-a63d5ef49933"
      },
      "source": [
        "X_train.shape,X_test.shape,Y_train.shape,Y_test.shape"
      ],
      "execution_count": null,
      "outputs": [
        {
          "output_type": "execute_result",
          "data": {
            "text/plain": [
              "((381, 30), (188, 30), (381,), (188,))"
            ]
          },
          "metadata": {
            "tags": []
          },
          "execution_count": 46
        }
      ]
    },
    {
      "cell_type": "code",
      "metadata": {
        "id": "zR-2va5ZEOeY"
      },
      "source": [
        "#Scaling\n",
        "from sklearn.preprocessing import StandardScaler\n",
        "scaler=StandardScaler()\n",
        "\n",
        "X_train=scaler.fit_transform(X_train)\n",
        "X_test=scaler.fit_transform(X_test)"
      ],
      "execution_count": null,
      "outputs": []
    },
    {
      "cell_type": "code",
      "metadata": {
        "id": "wl2mzZKcEZVh"
      },
      "source": [
        "model=tf.keras.models.Sequential([\n",
        "                      tf.keras.layers.Input(shape=(X_train.shape[1],)),\n",
        "                      tf.keras.layers.Dense(1,activation='sigmoid')\n",
        "                                  \n",
        "])"
      ],
      "execution_count": null,
      "outputs": []
    },
    {
      "cell_type": "code",
      "metadata": {
        "id": "jVdDdxaiE7La"
      },
      "source": [
        "model.compile(optimizer='adam',loss='binary_crossentropy',metrics=['accuracy'])"
      ],
      "execution_count": null,
      "outputs": []
    },
    {
      "cell_type": "code",
      "metadata": {
        "colab": {
          "base_uri": "https://localhost:8080/"
        },
        "id": "3gc7ZaJFHT6H",
        "outputId": "2c99d957-0241-433f-ce72-7acbd4159c98"
      },
      "source": [
        "model.summary()"
      ],
      "execution_count": null,
      "outputs": [
        {
          "output_type": "stream",
          "text": [
            "Model: \"sequential_1\"\n",
            "_________________________________________________________________\n",
            "Layer (type)                 Output Shape              Param #   \n",
            "=================================================================\n",
            "dense_1 (Dense)              (None, 1)                 31        \n",
            "=================================================================\n",
            "Total params: 31\n",
            "Trainable params: 31\n",
            "Non-trainable params: 0\n",
            "_________________________________________________________________\n"
          ],
          "name": "stdout"
        }
      ]
    },
    {
      "cell_type": "code",
      "metadata": {
        "colab": {
          "base_uri": "https://localhost:8080/"
        },
        "id": "yIsqp3yVFUiA",
        "outputId": "44e21551-ad2b-4147-8d9c-d81a56e30919"
      },
      "source": [
        "r=model.fit(X_train,Y_train,validation_data=(X_test,Y_test),epochs=100,verbose=1)"
      ],
      "execution_count": null,
      "outputs": [
        {
          "output_type": "stream",
          "text": [
            "Epoch 1/100\n",
            "12/12 [==============================] - 1s 16ms/step - loss: 0.9399 - accuracy: 0.5713 - val_loss: 0.9476 - val_accuracy: 0.5638\n",
            "Epoch 2/100\n",
            "12/12 [==============================] - 0s 5ms/step - loss: 0.9261 - accuracy: 0.5916 - val_loss: 0.8842 - val_accuracy: 0.5851\n",
            "Epoch 3/100\n",
            "12/12 [==============================] - 0s 5ms/step - loss: 0.7970 - accuracy: 0.6451 - val_loss: 0.8262 - val_accuracy: 0.6277\n",
            "Epoch 4/100\n",
            "12/12 [==============================] - 0s 5ms/step - loss: 0.7853 - accuracy: 0.6375 - val_loss: 0.7740 - val_accuracy: 0.6436\n",
            "Epoch 5/100\n",
            "12/12 [==============================] - 0s 5ms/step - loss: 0.6787 - accuracy: 0.6820 - val_loss: 0.7255 - val_accuracy: 0.6596\n",
            "Epoch 6/100\n",
            "12/12 [==============================] - 0s 5ms/step - loss: 0.6966 - accuracy: 0.6716 - val_loss: 0.6809 - val_accuracy: 0.6915\n",
            "Epoch 7/100\n",
            "12/12 [==============================] - 0s 5ms/step - loss: 0.6114 - accuracy: 0.7182 - val_loss: 0.6413 - val_accuracy: 0.7128\n",
            "Epoch 8/100\n",
            "12/12 [==============================] - 0s 5ms/step - loss: 0.6362 - accuracy: 0.6891 - val_loss: 0.6047 - val_accuracy: 0.7181\n",
            "Epoch 9/100\n",
            "12/12 [==============================] - 0s 6ms/step - loss: 0.6194 - accuracy: 0.7165 - val_loss: 0.5706 - val_accuracy: 0.7394\n",
            "Epoch 10/100\n",
            "12/12 [==============================] - 0s 5ms/step - loss: 0.5384 - accuracy: 0.7431 - val_loss: 0.5400 - val_accuracy: 0.7553\n",
            "Epoch 11/100\n",
            "12/12 [==============================] - 0s 5ms/step - loss: 0.5176 - accuracy: 0.7569 - val_loss: 0.5104 - val_accuracy: 0.7819\n",
            "Epoch 12/100\n",
            "12/12 [==============================] - 0s 5ms/step - loss: 0.4404 - accuracy: 0.7943 - val_loss: 0.4844 - val_accuracy: 0.8085\n",
            "Epoch 13/100\n",
            "12/12 [==============================] - 0s 5ms/step - loss: 0.4293 - accuracy: 0.8216 - val_loss: 0.4601 - val_accuracy: 0.8138\n",
            "Epoch 14/100\n",
            "12/12 [==============================] - 0s 5ms/step - loss: 0.4194 - accuracy: 0.8266 - val_loss: 0.4375 - val_accuracy: 0.8191\n",
            "Epoch 15/100\n",
            "12/12 [==============================] - 0s 5ms/step - loss: 0.4255 - accuracy: 0.8326 - val_loss: 0.4169 - val_accuracy: 0.8457\n",
            "Epoch 16/100\n",
            "12/12 [==============================] - 0s 5ms/step - loss: 0.4003 - accuracy: 0.8413 - val_loss: 0.3981 - val_accuracy: 0.8564\n",
            "Epoch 17/100\n",
            "12/12 [==============================] - 0s 5ms/step - loss: 0.3394 - accuracy: 0.8748 - val_loss: 0.3814 - val_accuracy: 0.8564\n",
            "Epoch 18/100\n",
            "12/12 [==============================] - 0s 6ms/step - loss: 0.3518 - accuracy: 0.8453 - val_loss: 0.3650 - val_accuracy: 0.8617\n",
            "Epoch 19/100\n",
            "12/12 [==============================] - 0s 5ms/step - loss: 0.3550 - accuracy: 0.8702 - val_loss: 0.3500 - val_accuracy: 0.8723\n",
            "Epoch 20/100\n",
            "12/12 [==============================] - 0s 6ms/step - loss: 0.3284 - accuracy: 0.8744 - val_loss: 0.3365 - val_accuracy: 0.8830\n",
            "Epoch 21/100\n",
            "12/12 [==============================] - 0s 5ms/step - loss: 0.2845 - accuracy: 0.9101 - val_loss: 0.3243 - val_accuracy: 0.8883\n",
            "Epoch 22/100\n",
            "12/12 [==============================] - 0s 5ms/step - loss: 0.2578 - accuracy: 0.9247 - val_loss: 0.3126 - val_accuracy: 0.8936\n",
            "Epoch 23/100\n",
            "12/12 [==============================] - 0s 5ms/step - loss: 0.2709 - accuracy: 0.9094 - val_loss: 0.3015 - val_accuracy: 0.8936\n",
            "Epoch 24/100\n",
            "12/12 [==============================] - 0s 5ms/step - loss: 0.2759 - accuracy: 0.9155 - val_loss: 0.2915 - val_accuracy: 0.9149\n",
            "Epoch 25/100\n",
            "12/12 [==============================] - 0s 5ms/step - loss: 0.2692 - accuracy: 0.8925 - val_loss: 0.2825 - val_accuracy: 0.9149\n",
            "Epoch 26/100\n",
            "12/12 [==============================] - 0s 6ms/step - loss: 0.2515 - accuracy: 0.9162 - val_loss: 0.2740 - val_accuracy: 0.9149\n",
            "Epoch 27/100\n",
            "12/12 [==============================] - 0s 5ms/step - loss: 0.2528 - accuracy: 0.9055 - val_loss: 0.2659 - val_accuracy: 0.9255\n",
            "Epoch 28/100\n",
            "12/12 [==============================] - 0s 6ms/step - loss: 0.2383 - accuracy: 0.9110 - val_loss: 0.2584 - val_accuracy: 0.9255\n",
            "Epoch 29/100\n",
            "12/12 [==============================] - 0s 5ms/step - loss: 0.2172 - accuracy: 0.9423 - val_loss: 0.2516 - val_accuracy: 0.9362\n",
            "Epoch 30/100\n",
            "12/12 [==============================] - 0s 5ms/step - loss: 0.2223 - accuracy: 0.9320 - val_loss: 0.2450 - val_accuracy: 0.9362\n",
            "Epoch 31/100\n",
            "12/12 [==============================] - 0s 5ms/step - loss: 0.1994 - accuracy: 0.9339 - val_loss: 0.2390 - val_accuracy: 0.9362\n",
            "Epoch 32/100\n",
            "12/12 [==============================] - 0s 5ms/step - loss: 0.2167 - accuracy: 0.9395 - val_loss: 0.2333 - val_accuracy: 0.9309\n",
            "Epoch 33/100\n",
            "12/12 [==============================] - 0s 5ms/step - loss: 0.1840 - accuracy: 0.9504 - val_loss: 0.2280 - val_accuracy: 0.9309\n",
            "Epoch 34/100\n",
            "12/12 [==============================] - 0s 5ms/step - loss: 0.2213 - accuracy: 0.9238 - val_loss: 0.2230 - val_accuracy: 0.9362\n",
            "Epoch 35/100\n",
            "12/12 [==============================] - 0s 5ms/step - loss: 0.1806 - accuracy: 0.9564 - val_loss: 0.2184 - val_accuracy: 0.9362\n",
            "Epoch 36/100\n",
            "12/12 [==============================] - 0s 6ms/step - loss: 0.1704 - accuracy: 0.9503 - val_loss: 0.2139 - val_accuracy: 0.9362\n",
            "Epoch 37/100\n",
            "12/12 [==============================] - 0s 5ms/step - loss: 0.2045 - accuracy: 0.9258 - val_loss: 0.2098 - val_accuracy: 0.9362\n",
            "Epoch 38/100\n",
            "12/12 [==============================] - 0s 6ms/step - loss: 0.1909 - accuracy: 0.9361 - val_loss: 0.2058 - val_accuracy: 0.9362\n",
            "Epoch 39/100\n",
            "12/12 [==============================] - 0s 6ms/step - loss: 0.1662 - accuracy: 0.9696 - val_loss: 0.2021 - val_accuracy: 0.9468\n",
            "Epoch 40/100\n",
            "12/12 [==============================] - 0s 5ms/step - loss: 0.1799 - accuracy: 0.9549 - val_loss: 0.1985 - val_accuracy: 0.9468\n",
            "Epoch 41/100\n",
            "12/12 [==============================] - 0s 7ms/step - loss: 0.1776 - accuracy: 0.9507 - val_loss: 0.1952 - val_accuracy: 0.9521\n",
            "Epoch 42/100\n",
            "12/12 [==============================] - 0s 5ms/step - loss: 0.1721 - accuracy: 0.9590 - val_loss: 0.1920 - val_accuracy: 0.9521\n",
            "Epoch 43/100\n",
            "12/12 [==============================] - 0s 5ms/step - loss: 0.1486 - accuracy: 0.9787 - val_loss: 0.1889 - val_accuracy: 0.9521\n",
            "Epoch 44/100\n",
            "12/12 [==============================] - 0s 5ms/step - loss: 0.1650 - accuracy: 0.9531 - val_loss: 0.1861 - val_accuracy: 0.9521\n",
            "Epoch 45/100\n",
            "12/12 [==============================] - 0s 5ms/step - loss: 0.1641 - accuracy: 0.9646 - val_loss: 0.1832 - val_accuracy: 0.9521\n",
            "Epoch 46/100\n",
            "12/12 [==============================] - 0s 6ms/step - loss: 0.1401 - accuracy: 0.9756 - val_loss: 0.1806 - val_accuracy: 0.9574\n",
            "Epoch 47/100\n",
            "12/12 [==============================] - 0s 6ms/step - loss: 0.1545 - accuracy: 0.9633 - val_loss: 0.1782 - val_accuracy: 0.9574\n",
            "Epoch 48/100\n",
            "12/12 [==============================] - 0s 5ms/step - loss: 0.1545 - accuracy: 0.9547 - val_loss: 0.1758 - val_accuracy: 0.9574\n",
            "Epoch 49/100\n",
            "12/12 [==============================] - 0s 5ms/step - loss: 0.1306 - accuracy: 0.9732 - val_loss: 0.1734 - val_accuracy: 0.9574\n",
            "Epoch 50/100\n",
            "12/12 [==============================] - 0s 5ms/step - loss: 0.1375 - accuracy: 0.9755 - val_loss: 0.1713 - val_accuracy: 0.9574\n",
            "Epoch 51/100\n",
            "12/12 [==============================] - 0s 6ms/step - loss: 0.1445 - accuracy: 0.9622 - val_loss: 0.1691 - val_accuracy: 0.9628\n",
            "Epoch 52/100\n",
            "12/12 [==============================] - 0s 5ms/step - loss: 0.1532 - accuracy: 0.9603 - val_loss: 0.1671 - val_accuracy: 0.9628\n",
            "Epoch 53/100\n",
            "12/12 [==============================] - 0s 5ms/step - loss: 0.1467 - accuracy: 0.9666 - val_loss: 0.1652 - val_accuracy: 0.9628\n",
            "Epoch 54/100\n",
            "12/12 [==============================] - 0s 6ms/step - loss: 0.1566 - accuracy: 0.9535 - val_loss: 0.1632 - val_accuracy: 0.9628\n",
            "Epoch 55/100\n",
            "12/12 [==============================] - 0s 5ms/step - loss: 0.1412 - accuracy: 0.9579 - val_loss: 0.1614 - val_accuracy: 0.9628\n",
            "Epoch 56/100\n",
            "12/12 [==============================] - 0s 5ms/step - loss: 0.1489 - accuracy: 0.9530 - val_loss: 0.1597 - val_accuracy: 0.9628\n",
            "Epoch 57/100\n",
            "12/12 [==============================] - 0s 6ms/step - loss: 0.1372 - accuracy: 0.9658 - val_loss: 0.1580 - val_accuracy: 0.9628\n",
            "Epoch 58/100\n",
            "12/12 [==============================] - 0s 5ms/step - loss: 0.1495 - accuracy: 0.9525 - val_loss: 0.1564 - val_accuracy: 0.9628\n",
            "Epoch 59/100\n",
            "12/12 [==============================] - 0s 5ms/step - loss: 0.1171 - accuracy: 0.9749 - val_loss: 0.1549 - val_accuracy: 0.9628\n",
            "Epoch 60/100\n",
            "12/12 [==============================] - 0s 5ms/step - loss: 0.1323 - accuracy: 0.9645 - val_loss: 0.1533 - val_accuracy: 0.9628\n",
            "Epoch 61/100\n",
            "12/12 [==============================] - 0s 5ms/step - loss: 0.1315 - accuracy: 0.9665 - val_loss: 0.1518 - val_accuracy: 0.9628\n",
            "Epoch 62/100\n",
            "12/12 [==============================] - 0s 6ms/step - loss: 0.1412 - accuracy: 0.9598 - val_loss: 0.1505 - val_accuracy: 0.9628\n",
            "Epoch 63/100\n",
            "12/12 [==============================] - 0s 5ms/step - loss: 0.1262 - accuracy: 0.9706 - val_loss: 0.1491 - val_accuracy: 0.9628\n",
            "Epoch 64/100\n",
            "12/12 [==============================] - 0s 5ms/step - loss: 0.1061 - accuracy: 0.9768 - val_loss: 0.1478 - val_accuracy: 0.9628\n",
            "Epoch 65/100\n",
            "12/12 [==============================] - 0s 5ms/step - loss: 0.1270 - accuracy: 0.9653 - val_loss: 0.1465 - val_accuracy: 0.9628\n",
            "Epoch 66/100\n",
            "12/12 [==============================] - 0s 5ms/step - loss: 0.1242 - accuracy: 0.9676 - val_loss: 0.1453 - val_accuracy: 0.9628\n",
            "Epoch 67/100\n",
            "12/12 [==============================] - 0s 7ms/step - loss: 0.1258 - accuracy: 0.9681 - val_loss: 0.1441 - val_accuracy: 0.9628\n",
            "Epoch 68/100\n",
            "12/12 [==============================] - 0s 6ms/step - loss: 0.1268 - accuracy: 0.9636 - val_loss: 0.1430 - val_accuracy: 0.9628\n",
            "Epoch 69/100\n",
            "12/12 [==============================] - 0s 6ms/step - loss: 0.1361 - accuracy: 0.9611 - val_loss: 0.1418 - val_accuracy: 0.9628\n",
            "Epoch 70/100\n",
            "12/12 [==============================] - 0s 5ms/step - loss: 0.1089 - accuracy: 0.9760 - val_loss: 0.1407 - val_accuracy: 0.9628\n",
            "Epoch 71/100\n",
            "12/12 [==============================] - 0s 5ms/step - loss: 0.1233 - accuracy: 0.9787 - val_loss: 0.1396 - val_accuracy: 0.9628\n",
            "Epoch 72/100\n",
            "12/12 [==============================] - 0s 5ms/step - loss: 0.1103 - accuracy: 0.9685 - val_loss: 0.1386 - val_accuracy: 0.9681\n",
            "Epoch 73/100\n",
            "12/12 [==============================] - 0s 5ms/step - loss: 0.1134 - accuracy: 0.9734 - val_loss: 0.1376 - val_accuracy: 0.9681\n",
            "Epoch 74/100\n",
            "12/12 [==============================] - 0s 5ms/step - loss: 0.1214 - accuracy: 0.9696 - val_loss: 0.1366 - val_accuracy: 0.9681\n",
            "Epoch 75/100\n",
            "12/12 [==============================] - 0s 5ms/step - loss: 0.1120 - accuracy: 0.9781 - val_loss: 0.1357 - val_accuracy: 0.9681\n",
            "Epoch 76/100\n",
            "12/12 [==============================] - 0s 5ms/step - loss: 0.1220 - accuracy: 0.9606 - val_loss: 0.1348 - val_accuracy: 0.9681\n",
            "Epoch 77/100\n",
            "12/12 [==============================] - 0s 5ms/step - loss: 0.0957 - accuracy: 0.9840 - val_loss: 0.1338 - val_accuracy: 0.9681\n",
            "Epoch 78/100\n",
            "12/12 [==============================] - 0s 6ms/step - loss: 0.1107 - accuracy: 0.9691 - val_loss: 0.1330 - val_accuracy: 0.9681\n",
            "Epoch 79/100\n",
            "12/12 [==============================] - 0s 6ms/step - loss: 0.1159 - accuracy: 0.9716 - val_loss: 0.1321 - val_accuracy: 0.9681\n",
            "Epoch 80/100\n",
            "12/12 [==============================] - 0s 5ms/step - loss: 0.0999 - accuracy: 0.9843 - val_loss: 0.1313 - val_accuracy: 0.9681\n",
            "Epoch 81/100\n",
            "12/12 [==============================] - 0s 5ms/step - loss: 0.1096 - accuracy: 0.9769 - val_loss: 0.1305 - val_accuracy: 0.9681\n",
            "Epoch 82/100\n",
            "12/12 [==============================] - 0s 6ms/step - loss: 0.0937 - accuracy: 0.9892 - val_loss: 0.1298 - val_accuracy: 0.9681\n",
            "Epoch 83/100\n",
            "12/12 [==============================] - 0s 5ms/step - loss: 0.0998 - accuracy: 0.9801 - val_loss: 0.1290 - val_accuracy: 0.9681\n",
            "Epoch 84/100\n",
            "12/12 [==============================] - 0s 6ms/step - loss: 0.1083 - accuracy: 0.9649 - val_loss: 0.1283 - val_accuracy: 0.9681\n",
            "Epoch 85/100\n",
            "12/12 [==============================] - 0s 5ms/step - loss: 0.1046 - accuracy: 0.9824 - val_loss: 0.1275 - val_accuracy: 0.9681\n",
            "Epoch 86/100\n",
            "12/12 [==============================] - 0s 5ms/step - loss: 0.1171 - accuracy: 0.9772 - val_loss: 0.1268 - val_accuracy: 0.9681\n",
            "Epoch 87/100\n",
            "12/12 [==============================] - 0s 5ms/step - loss: 0.1024 - accuracy: 0.9815 - val_loss: 0.1261 - val_accuracy: 0.9681\n",
            "Epoch 88/100\n",
            "12/12 [==============================] - 0s 6ms/step - loss: 0.1047 - accuracy: 0.9778 - val_loss: 0.1254 - val_accuracy: 0.9734\n",
            "Epoch 89/100\n",
            "12/12 [==============================] - 0s 5ms/step - loss: 0.1024 - accuracy: 0.9769 - val_loss: 0.1247 - val_accuracy: 0.9734\n",
            "Epoch 90/100\n",
            "12/12 [==============================] - 0s 5ms/step - loss: 0.0976 - accuracy: 0.9831 - val_loss: 0.1241 - val_accuracy: 0.9734\n",
            "Epoch 91/100\n",
            "12/12 [==============================] - 0s 5ms/step - loss: 0.0941 - accuracy: 0.9852 - val_loss: 0.1235 - val_accuracy: 0.9734\n",
            "Epoch 92/100\n",
            "12/12 [==============================] - 0s 5ms/step - loss: 0.1042 - accuracy: 0.9811 - val_loss: 0.1228 - val_accuracy: 0.9734\n",
            "Epoch 93/100\n",
            "12/12 [==============================] - 0s 5ms/step - loss: 0.1025 - accuracy: 0.9753 - val_loss: 0.1223 - val_accuracy: 0.9734\n",
            "Epoch 94/100\n",
            "12/12 [==============================] - 0s 5ms/step - loss: 0.0920 - accuracy: 0.9873 - val_loss: 0.1217 - val_accuracy: 0.9734\n",
            "Epoch 95/100\n",
            "12/12 [==============================] - 0s 6ms/step - loss: 0.0970 - accuracy: 0.9775 - val_loss: 0.1211 - val_accuracy: 0.9734\n",
            "Epoch 96/100\n",
            "12/12 [==============================] - 0s 6ms/step - loss: 0.1047 - accuracy: 0.9784 - val_loss: 0.1205 - val_accuracy: 0.9734\n",
            "Epoch 97/100\n",
            "12/12 [==============================] - 0s 6ms/step - loss: 0.0946 - accuracy: 0.9780 - val_loss: 0.1200 - val_accuracy: 0.9734\n",
            "Epoch 98/100\n",
            "12/12 [==============================] - 0s 5ms/step - loss: 0.0938 - accuracy: 0.9822 - val_loss: 0.1195 - val_accuracy: 0.9734\n",
            "Epoch 99/100\n",
            "12/12 [==============================] - 0s 6ms/step - loss: 0.0893 - accuracy: 0.9869 - val_loss: 0.1189 - val_accuracy: 0.9734\n",
            "Epoch 100/100\n",
            "12/12 [==============================] - 0s 5ms/step - loss: 0.0868 - accuracy: 0.9834 - val_loss: 0.1184 - val_accuracy: 0.9734\n"
          ],
          "name": "stdout"
        }
      ]
    },
    {
      "cell_type": "code",
      "metadata": {
        "colab": {
          "base_uri": "https://localhost:8080/",
          "height": 286
        },
        "id": "EvGr6PSmFwkP",
        "outputId": "f861d575-5c31-47de-9398-be9b8a5d0cac"
      },
      "source": [
        "import matplotlib.pyplot as plt\n",
        "plt.plot(r.history['loss'], label='loss')\n",
        "plt.plot(r.history['val_loss'],label='val_loss')\n",
        "plt.legend()"
      ],
      "execution_count": null,
      "outputs": [
        {
          "output_type": "execute_result",
          "data": {
            "text/plain": [
              "<matplotlib.legend.Legend at 0x7f31d48cc550>"
            ]
          },
          "metadata": {
            "tags": []
          },
          "execution_count": 52
        },
        {
          "output_type": "display_data",
          "data": {
            "image/png": "[encoded data removed]",
            "text/plain": [
              "<Figure size 432x288 with 1 Axes>"
            ]
          },
          "metadata": {
            "tags": [],
            "needs_background": "light"
          }
        }
      ]
    },
    {
      "cell_type": "code",
      "metadata": {
        "colab": {
          "base_uri": "https://localhost:8080/",
          "height": 285
        },
        "id": "Ybtk5C1NF371",
        "outputId": "5f6dcbdf-9136-4f61-8035-2601bc8bfb47"
      },
      "source": [
        "plt.plot(r.history['accuracy'],label='accuracy')\n",
        "plt.plot(r.history['val_accuracy'],label='val_acc')\n",
        "plt.legend()"
      ],
      "execution_count": null,
      "outputs": [
        {
          "output_type": "execute_result",
          "data": {
            "text/plain": [
              "<matplotlib.legend.Legend at 0x7f31d473a610>"
            ]
          },
          "metadata": {
            "tags": []
          },
          "execution_count": 53
        },
        {
          "output_type": "display_data",
          "data": {
            "image/png": "[encoded data removed]",
            "text/plain": [
              "<Figure size 432x288 with 1 Axes>"
            ]
          },
          "metadata": {
            "tags": [],
            "needs_background": "light"
          }
        }
      ]
    },
    {
      "cell_type": "code",
      "metadata": {
        "id": "_iXUkZkyGwCL"
      },
      "source": [
        "##Predictions\n",
        "import numpy as np"
      ],
      "execution_count": 60,
      "outputs": []
    },
    {
      "cell_type": "code",
      "metadata": {
        "id": "79pMorYUf8eB"
      },
      "source": [
        "y_pred=model.predict(X_test)"
      ],
      "execution_count": 57,
      "outputs": []
    },
    {
      "cell_type": "code",
      "metadata": {
        "id": "79s7QKfef_BQ"
      },
      "source": [
        "y_pred=np.round(y_pred).flatten()"
      ],
      "execution_count": 62,
      "outputs": []
    },
    {
      "cell_type": "code",
      "metadata": {
        "id": "gi4IoQ7rgGV1"
      },
      "source": [
        "from sklearn.metrics import confusion_matrix,classification_report"
      ],
      "execution_count": 63,
      "outputs": []
    },
    {
      "cell_type": "code",
      "metadata": {
        "colab": {
          "base_uri": "https://localhost:8080/"
        },
        "id": "W-SCMHDigUZs",
        "outputId": "92accc71-f724-486e-c5f9-5e37b3c49cf1"
      },
      "source": [
        "confusion_matrix(Y_test,y_pred)"
      ],
      "execution_count": 65,
      "outputs": [
        {
          "output_type": "execute_result",
          "data": {
            "text/plain": [
              "array([[ 65,   3],\n",
              "       [  2, 118]])"
            ]
          },
          "metadata": {
            "tags": []
          },
          "execution_count": 65
        }
      ]
    },
    {
      "cell_type": "code",
      "metadata": {
        "colab": {
          "base_uri": "https://localhost:8080/"
        },
        "id": "LSmWlcj4gXw_",
        "outputId": "75dc963d-13d2-44b0-f922-48a50430cb28"
      },
      "source": [
        "print(classification_report(Y_test,y_pred))"
      ],
      "execution_count": 67,
      "outputs": [
        {
          "output_type": "stream",
          "text": [
            "              precision    recall  f1-score   support\n",
            "\n",
            "           0       0.97      0.96      0.96        68\n",
            "           1       0.98      0.98      0.98       120\n",
            "\n",
            "    accuracy                           0.97       188\n",
            "   macro avg       0.97      0.97      0.97       188\n",
            "weighted avg       0.97      0.97      0.97       188\n",
            "\n"
          ],
          "name": "stdout"
        }
      ]
    },
    {
      "cell_type": "code",
      "metadata": {
        "colab": {
          "base_uri": "https://localhost:8080/"
        },
        "id": "4ywZX9NIggK3",
        "outputId": "ae00f535-518c-48c9-94d6-e98603e95133"
      },
      "source": [
        "model.evaluate(X_test,Y_test)  #calculating accuracy"
      ],
      "execution_count": 69,
      "outputs": [
        {
          "output_type": "stream",
          "text": [
            "6/6 [==============================] - 0s 2ms/step - loss: 0.1184 - accuracy: 0.9734\n"
          ],
          "name": "stdout"
        },
        {
          "output_type": "execute_result",
          "data": {
            "text/plain": [
              "[0.11841151863336563, 0.9734042286872864]"
            ]
          },
          "metadata": {
            "tags": []
          },
          "execution_count": 69
        }
      ]
    },
    {
      "cell_type": "code",
      "metadata": {
        "id": "yRRZJZ7wg91Q"
      },
      "source": [
        ""
      ],
      "execution_count": null,
      "outputs": []
    }
  ]
}